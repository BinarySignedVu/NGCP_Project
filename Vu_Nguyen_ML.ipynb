{
 "cells": [
  {
   "cell_type": "code",
   "execution_count": 1,
   "id": "d631872c",
   "metadata": {},
   "outputs": [
    {
     "name": "stdout",
     "output_type": "stream",
     "text": [
      "2.10.0\n",
      "2.10.0\n"
     ]
    }
   ],
   "source": [
    "import tensorflow as tf\n",
    "from keras.layers import Dropout\n",
    "from tensorflow import keras\n",
    "print(tf.__version__)\n",
    "print(keras.__version__)"
   ]
  },
  {
   "cell_type": "code",
   "execution_count": 2,
   "id": "e7de51d2",
   "metadata": {},
   "outputs": [],
   "source": [
    "fashion_mnist = keras.datasets.fashion_mnist"
   ]
  },
  {
   "cell_type": "code",
   "execution_count": 3,
   "id": "1cabeb8f",
   "metadata": {},
   "outputs": [],
   "source": [
    "(X_train_full, y_train_full), (X_test, y_test) = fashion_mnist.load_data()"
   ]
  },
  {
   "cell_type": "code",
   "execution_count": 4,
   "id": "20fd2440",
   "metadata": {},
   "outputs": [
    {
     "data": {
      "text/plain": [
       "(60000, 28, 28)"
      ]
     },
     "execution_count": 4,
     "metadata": {},
     "output_type": "execute_result"
    }
   ],
   "source": [
    "X_train_full.shape"
   ]
  },
  {
   "cell_type": "code",
   "execution_count": 5,
   "id": "29b97398",
   "metadata": {},
   "outputs": [
    {
     "data": {
      "text/plain": [
       "dtype('uint8')"
      ]
     },
     "execution_count": 5,
     "metadata": {},
     "output_type": "execute_result"
    }
   ],
   "source": [
    "X_train_full.dtype"
   ]
  },
  {
   "cell_type": "markdown",
   "id": "3c883192",
   "metadata": {},
   "source": [
    "## pre-processing"
   ]
  },
  {
   "cell_type": "code",
   "execution_count": 6,
   "id": "2f588595",
   "metadata": {},
   "outputs": [],
   "source": [
    "X_valid, X_train = X_train_full[:10000]/255.0, X_train_full[10000:]/255.0\n",
    "y_valid, y_train = y_train_full[:10000]/255.0, y_train_full[10000:]\n",
    "X_test = X_test/255.0"
   ]
  },
  {
   "cell_type": "code",
   "execution_count": 7,
   "id": "71649f34",
   "metadata": {},
   "outputs": [],
   "source": [
    "class_names = [\"T-shirt/top\", \"Trouser\", \"Pullover\", \"Dress\", \"Coat\", \"Sandal\", \"Shirt\", \"Sneaker\", \"Bag\",\n",
    "              \"Ankle Boot\"]"
   ]
  },
  {
   "cell_type": "code",
   "execution_count": 8,
   "id": "cd746f79",
   "metadata": {},
   "outputs": [],
   "source": [
    "model = keras.models.Sequential()\n",
    "model.add(keras.layers.Flatten(input_shape=[28,28]))\n",
    "model.add(Dropout(0.3))\n",
    "model.add(keras.layers.Dense(600, activation = 'sigmoid'))\n",
    "model.add(keras.layers.Dense(400, activation = 'leaky_relu'))\n",
    "model.add(keras.layers.Dense(150, activation = 'leaky_relu'))\n",
    "model.add(keras.layers.Dense(10, activation = 'softmax'))"
   ]
  },
  {
   "cell_type": "code",
   "execution_count": 9,
   "id": "5779f151",
   "metadata": {},
   "outputs": [
    {
     "name": "stdout",
     "output_type": "stream",
     "text": [
      "Model: \"sequential\"\n",
      "_________________________________________________________________\n",
      " Layer (type)                Output Shape              Param #   \n",
      "=================================================================\n",
      " flatten (Flatten)           (None, 784)               0         \n",
      "                                                                 \n",
      " dropout (Dropout)           (None, 784)               0         \n",
      "                                                                 \n",
      " dense (Dense)               (None, 600)               471000    \n",
      "                                                                 \n",
      " dense_1 (Dense)             (None, 400)               240400    \n",
      "                                                                 \n",
      " dense_2 (Dense)             (None, 150)               60150     \n",
      "                                                                 \n",
      " dense_3 (Dense)             (None, 10)                1510      \n",
      "                                                                 \n",
      "=================================================================\n",
      "Total params: 773,060\n",
      "Trainable params: 773,060\n",
      "Non-trainable params: 0\n",
      "_________________________________________________________________\n"
     ]
    }
   ],
   "source": [
    "model.summary()"
   ]
  },
  {
   "cell_type": "code",
   "execution_count": 10,
   "id": "86ab2514",
   "metadata": {},
   "outputs": [
    {
     "data": {
      "text/plain": [
       "[<keras.layers.reshaping.flatten.Flatten at 0x22e66dc9cd0>,\n",
       " <keras.layers.regularization.dropout.Dropout at 0x22e66deac40>,\n",
       " <keras.layers.core.dense.Dense at 0x22e6cc12490>,\n",
       " <keras.layers.core.dense.Dense at 0x22e6cc75e80>,\n",
       " <keras.layers.core.dense.Dense at 0x22e6cc91370>,\n",
       " <keras.layers.core.dense.Dense at 0x22e6cc91e20>]"
      ]
     },
     "execution_count": 10,
     "metadata": {},
     "output_type": "execute_result"
    }
   ],
   "source": [
    "model.layers"
   ]
  },
  {
   "cell_type": "code",
   "execution_count": 11,
   "id": "0b1de925",
   "metadata": {},
   "outputs": [],
   "source": [
    "model.compile(loss = 'sparse_categorical_crossentropy', optimizer = \"Adam\", metrics = [\"accuracy\"])"
   ]
  },
  {
   "cell_type": "code",
   "execution_count": 12,
   "id": "48058fb0",
   "metadata": {},
   "outputs": [
    {
     "name": "stdout",
     "output_type": "stream",
     "text": [
      "Epoch 1/28\n",
      "1563/1563 [==============================] - 12s 7ms/step - loss: 0.5755 - accuracy: 0.7845 - val_loss: 7.6042 - val_accuracy: 0.0686\n",
      "Epoch 2/28\n",
      "1563/1563 [==============================] - 11s 7ms/step - loss: 0.4404 - accuracy: 0.8358 - val_loss: 8.8772 - val_accuracy: 0.0503\n",
      "Epoch 3/28\n",
      "1563/1563 [==============================] - 11s 7ms/step - loss: 0.3987 - accuracy: 0.8504 - val_loss: 8.6358 - val_accuracy: 0.0782\n",
      "Epoch 4/28\n",
      "1563/1563 [==============================] - 11s 7ms/step - loss: 0.3740 - accuracy: 0.8580 - val_loss: 9.4018 - val_accuracy: 0.0668\n",
      "Epoch 5/28\n",
      "1563/1563 [==============================] - 11s 7ms/step - loss: 0.3504 - accuracy: 0.8687 - val_loss: 8.9117 - val_accuracy: 0.0855\n",
      "Epoch 6/28\n",
      "1563/1563 [==============================] - 11s 7ms/step - loss: 0.3368 - accuracy: 0.8726 - val_loss: 9.8820 - val_accuracy: 0.0823\n",
      "Epoch 7/28\n",
      "1563/1563 [==============================] - 11s 7ms/step - loss: 0.3215 - accuracy: 0.8788 - val_loss: 10.6171 - val_accuracy: 0.0842\n",
      "Epoch 8/28\n",
      "1563/1563 [==============================] - 11s 7ms/step - loss: 0.3116 - accuracy: 0.8822 - val_loss: 11.6156 - val_accuracy: 0.0770\n",
      "Epoch 9/28\n",
      "1563/1563 [==============================] - 11s 7ms/step - loss: 0.3003 - accuracy: 0.8861 - val_loss: 12.1167 - val_accuracy: 0.0802\n",
      "Epoch 10/28\n",
      "1563/1563 [==============================] - 12s 7ms/step - loss: 0.2936 - accuracy: 0.8870 - val_loss: 12.7559 - val_accuracy: 0.0848\n",
      "Epoch 11/28\n",
      "1563/1563 [==============================] - 11s 7ms/step - loss: 0.2844 - accuracy: 0.8908 - val_loss: 13.5339 - val_accuracy: 0.0832\n",
      "Epoch 12/28\n",
      "1563/1563 [==============================] - 11s 7ms/step - loss: 0.2817 - accuracy: 0.8929 - val_loss: 12.6443 - val_accuracy: 0.0817\n",
      "Epoch 13/28\n",
      "1563/1563 [==============================] - 11s 7ms/step - loss: 0.2723 - accuracy: 0.8955 - val_loss: 13.7849 - val_accuracy: 0.0762\n",
      "Epoch 14/28\n",
      "1563/1563 [==============================] - 11s 7ms/step - loss: 0.2703 - accuracy: 0.8960 - val_loss: 14.4869 - val_accuracy: 0.0808\n",
      "Epoch 15/28\n",
      "1563/1563 [==============================] - 11s 7ms/step - loss: 0.2648 - accuracy: 0.8990 - val_loss: 13.8022 - val_accuracy: 0.0807\n",
      "Epoch 16/28\n",
      "1563/1563 [==============================] - 11s 7ms/step - loss: 0.2602 - accuracy: 0.9002 - val_loss: 12.2793 - val_accuracy: 0.0835\n",
      "Epoch 17/28\n",
      "1563/1563 [==============================] - 10s 7ms/step - loss: 0.2586 - accuracy: 0.9004 - val_loss: 14.0682 - val_accuracy: 0.0796\n",
      "Epoch 18/28\n",
      "1563/1563 [==============================] - 11s 7ms/step - loss: 0.2500 - accuracy: 0.9033 - val_loss: 13.7350 - val_accuracy: 0.0819\n",
      "Epoch 19/28\n",
      "1563/1563 [==============================] - 11s 7ms/step - loss: 0.2483 - accuracy: 0.9046 - val_loss: 13.5278 - val_accuracy: 0.0819\n",
      "Epoch 20/28\n",
      "1563/1563 [==============================] - 11s 7ms/step - loss: 0.2427 - accuracy: 0.9073 - val_loss: 15.6596 - val_accuracy: 0.0828\n",
      "Epoch 21/28\n",
      "1563/1563 [==============================] - 11s 7ms/step - loss: 0.2408 - accuracy: 0.9080 - val_loss: 15.1110 - val_accuracy: 0.0739\n",
      "Epoch 22/28\n",
      "1563/1563 [==============================] - 11s 7ms/step - loss: 0.2390 - accuracy: 0.9071 - val_loss: 14.3225 - val_accuracy: 0.0824\n",
      "Epoch 23/28\n",
      "1563/1563 [==============================] - 11s 7ms/step - loss: 0.2354 - accuracy: 0.9092 - val_loss: 14.7443 - val_accuracy: 0.0825\n",
      "Epoch 24/28\n",
      "1563/1563 [==============================] - 11s 7ms/step - loss: 0.2318 - accuracy: 0.9105 - val_loss: 15.0500 - val_accuracy: 0.0854\n",
      "Epoch 25/28\n",
      "1563/1563 [==============================] - 11s 7ms/step - loss: 0.2311 - accuracy: 0.9095 - val_loss: 17.4652 - val_accuracy: 0.0760\n",
      "Epoch 26/28\n",
      "1563/1563 [==============================] - 11s 7ms/step - loss: 0.2271 - accuracy: 0.9120 - val_loss: 15.8618 - val_accuracy: 0.0773\n",
      "Epoch 27/28\n",
      "1563/1563 [==============================] - 10s 7ms/step - loss: 0.2251 - accuracy: 0.9125 - val_loss: 15.7985 - val_accuracy: 0.0859\n",
      "Epoch 28/28\n",
      "1563/1563 [==============================] - 11s 7ms/step - loss: 0.2256 - accuracy: 0.9134 - val_loss: 15.1390 - val_accuracy: 0.0812\n"
     ]
    }
   ],
   "source": [
    "history = model.fit(X_train, y_train, epochs=28, validation_data = (X_valid, y_valid))"
   ]
  },
  {
   "cell_type": "code",
   "execution_count": 13,
   "id": "1898eb3e",
   "metadata": {},
   "outputs": [
    {
     "data": {
      "image/png": "[encoded data removed]",
      "text/plain": [
       "<Figure size 576x360 with 1 Axes>"
      ]
     },
     "metadata": {
      "needs_background": "light"
     },
     "output_type": "display_data"
    }
   ],
   "source": [
    "import matplotlib.pyplot as plt\n",
    "import pandas as pd\n",
    "\n",
    "pd.DataFrame(history.history).plot(figsize =(8,5))\n",
    "plt.grid(True)\n",
    "plt.gca().set_ylim(0,1)\n",
    "plt.show()"
   ]
  },
  {
   "cell_type": "code",
   "execution_count": 14,
   "id": "a024cf57",
   "metadata": {},
   "outputs": [
    {
     "name": "stdout",
     "output_type": "stream",
     "text": [
      "313/313 [==============================] - 1s 4ms/step - loss: 0.3262 - accuracy: 0.8932\n"
     ]
    },
    {
     "data": {
      "text/plain": [
       "[0.32616838812828064, 0.8931999802589417]"
      ]
     },
     "execution_count": 14,
     "metadata": {},
     "output_type": "execute_result"
    }
   ],
   "source": [
    "model.evaluate(X_test, y_test)"
   ]
  },
  {
   "cell_type": "code",
   "execution_count": 15,
   "id": "d9f55622",
   "metadata": {},
   "outputs": [
    {
     "name": "stdout",
     "output_type": "stream",
     "text": [
      "1/1 [==============================] - 0s 129ms/step\n"
     ]
    },
    {
     "data": {
      "text/plain": [
       "array([[0.   , 0.   , 0.   , 0.   , 0.   , 0.   , 0.   , 0.009, 0.   ,\n",
       "        0.991],\n",
       "       [0.   , 0.   , 0.996, 0.   , 0.   , 0.   , 0.004, 0.   , 0.   ,\n",
       "        0.   ],\n",
       "       [0.   , 1.   , 0.   , 0.   , 0.   , 0.   , 0.   , 0.   , 0.   ,\n",
       "        0.   ]], dtype=float32)"
      ]
     },
     "execution_count": 15,
     "metadata": {},
     "output_type": "execute_result"
    }
   ],
   "source": [
    "X_new = X_test[:3]\n",
    "y_proba = model.predict(X_new)\n",
    "y_proba.round(3)"
   ]
  },
  {
   "cell_type": "code",
   "execution_count": null,
   "id": "22a22671",
   "metadata": {},
   "outputs": [],
   "source": []
  },
  {
   "cell_type": "code",
   "execution_count": null,
   "id": "499088d3-7cc3-48a5-8d9a-b86e261f7db1",
   "metadata": {},
   "outputs": [],
   "source": []
  }
 ],
 "metadata": {
  "kernelspec": {
   "display_name": "Python 3 (ipykernel)",
   "language": "python",
   "name": "python3"
  },
  "language_info": {
   "codemirror_mode": {
    "name": "ipython",
    "version": 3
   },
   "file_extension": ".py",
   "mimetype": "text/x-python",
   "name": "python",
   "nbconvert_exporter": "python",
   "pygments_lexer": "ipython3",
   "version": "3.9.12"
  }
 },
 "nbformat": 4,
 "nbformat_minor": 5
}
